{
 "cells": [
  {
   "cell_type": "markdown",
   "metadata": {},
   "source": [
    "## Logistic Regression exercise"
   ]
  },
  {
   "cell_type": "code",
   "execution_count": 1,
   "metadata": {},
   "outputs": [],
   "source": [
    "# Predicting TenYearCHD below\n",
    "import pandas as pd\n",
    "import numpy as np\n",
    "import matplotlib.pyplot as plt\n",
    "import scipy.stats as st"
   ]
  },
  {
   "cell_type": "code",
   "execution_count": 2,
   "metadata": {},
   "outputs": [],
   "source": [
    "fram_df = pd.read_csv('C:/Users/us61565/Desktop/Explainability/Framingham/framingham.csv')"
   ]
  },
  {
   "cell_type": "code",
   "execution_count": 3,
   "metadata": {},
   "outputs": [
    {
     "data": {
      "text/html": [
       "<div>\n",
       "<style scoped>\n",
       "    .dataframe tbody tr th:only-of-type {\n",
       "        vertical-align: middle;\n",
       "    }\n",
       "\n",
       "    .dataframe tbody tr th {\n",
       "        vertical-align: top;\n",
       "    }\n",
       "\n",
       "    .dataframe thead th {\n",
       "        text-align: right;\n",
       "    }\n",
       "</style>\n",
       "<table border=\"1\" class=\"dataframe\">\n",
       "  <thead>\n",
       "    <tr style=\"text-align: right;\">\n",
       "      <th></th>\n",
       "      <th>male</th>\n",
       "      <th>age</th>\n",
       "      <th>education</th>\n",
       "      <th>currentSmoker</th>\n",
       "      <th>cigsPerDay</th>\n",
       "      <th>BPMeds</th>\n",
       "      <th>prevalentStroke</th>\n",
       "      <th>prevalentHyp</th>\n",
       "      <th>diabetes</th>\n",
       "      <th>totChol</th>\n",
       "      <th>sysBP</th>\n",
       "      <th>diaBP</th>\n",
       "      <th>BMI</th>\n",
       "      <th>heartRate</th>\n",
       "      <th>glucose</th>\n",
       "      <th>TenYearCHD</th>\n",
       "    </tr>\n",
       "  </thead>\n",
       "  <tbody>\n",
       "    <tr>\n",
       "      <th>count</th>\n",
       "      <td>4240.000000</td>\n",
       "      <td>4240.000000</td>\n",
       "      <td>4135.000000</td>\n",
       "      <td>4240.000000</td>\n",
       "      <td>4211.000000</td>\n",
       "      <td>4187.000000</td>\n",
       "      <td>4240.000000</td>\n",
       "      <td>4240.000000</td>\n",
       "      <td>4240.000000</td>\n",
       "      <td>4190.000000</td>\n",
       "      <td>4240.000000</td>\n",
       "      <td>4240.000000</td>\n",
       "      <td>4221.000000</td>\n",
       "      <td>4239.000000</td>\n",
       "      <td>3852.000000</td>\n",
       "      <td>4240.000000</td>\n",
       "    </tr>\n",
       "    <tr>\n",
       "      <th>mean</th>\n",
       "      <td>0.429245</td>\n",
       "      <td>49.580189</td>\n",
       "      <td>1.979444</td>\n",
       "      <td>0.494104</td>\n",
       "      <td>9.005937</td>\n",
       "      <td>0.029615</td>\n",
       "      <td>0.005896</td>\n",
       "      <td>0.310613</td>\n",
       "      <td>0.025708</td>\n",
       "      <td>236.699523</td>\n",
       "      <td>132.354599</td>\n",
       "      <td>82.897759</td>\n",
       "      <td>25.800801</td>\n",
       "      <td>75.878981</td>\n",
       "      <td>81.963655</td>\n",
       "      <td>0.151887</td>\n",
       "    </tr>\n",
       "    <tr>\n",
       "      <th>std</th>\n",
       "      <td>0.495027</td>\n",
       "      <td>8.572942</td>\n",
       "      <td>1.019791</td>\n",
       "      <td>0.500024</td>\n",
       "      <td>11.922462</td>\n",
       "      <td>0.169544</td>\n",
       "      <td>0.076569</td>\n",
       "      <td>0.462799</td>\n",
       "      <td>0.158280</td>\n",
       "      <td>44.591284</td>\n",
       "      <td>22.033300</td>\n",
       "      <td>11.910394</td>\n",
       "      <td>4.079840</td>\n",
       "      <td>12.025348</td>\n",
       "      <td>23.954335</td>\n",
       "      <td>0.358953</td>\n",
       "    </tr>\n",
       "    <tr>\n",
       "      <th>min</th>\n",
       "      <td>0.000000</td>\n",
       "      <td>32.000000</td>\n",
       "      <td>1.000000</td>\n",
       "      <td>0.000000</td>\n",
       "      <td>0.000000</td>\n",
       "      <td>0.000000</td>\n",
       "      <td>0.000000</td>\n",
       "      <td>0.000000</td>\n",
       "      <td>0.000000</td>\n",
       "      <td>107.000000</td>\n",
       "      <td>83.500000</td>\n",
       "      <td>48.000000</td>\n",
       "      <td>15.540000</td>\n",
       "      <td>44.000000</td>\n",
       "      <td>40.000000</td>\n",
       "      <td>0.000000</td>\n",
       "    </tr>\n",
       "    <tr>\n",
       "      <th>25%</th>\n",
       "      <td>0.000000</td>\n",
       "      <td>42.000000</td>\n",
       "      <td>1.000000</td>\n",
       "      <td>0.000000</td>\n",
       "      <td>0.000000</td>\n",
       "      <td>0.000000</td>\n",
       "      <td>0.000000</td>\n",
       "      <td>0.000000</td>\n",
       "      <td>0.000000</td>\n",
       "      <td>206.000000</td>\n",
       "      <td>117.000000</td>\n",
       "      <td>75.000000</td>\n",
       "      <td>23.070000</td>\n",
       "      <td>68.000000</td>\n",
       "      <td>71.000000</td>\n",
       "      <td>0.000000</td>\n",
       "    </tr>\n",
       "    <tr>\n",
       "      <th>50%</th>\n",
       "      <td>0.000000</td>\n",
       "      <td>49.000000</td>\n",
       "      <td>2.000000</td>\n",
       "      <td>0.000000</td>\n",
       "      <td>0.000000</td>\n",
       "      <td>0.000000</td>\n",
       "      <td>0.000000</td>\n",
       "      <td>0.000000</td>\n",
       "      <td>0.000000</td>\n",
       "      <td>234.000000</td>\n",
       "      <td>128.000000</td>\n",
       "      <td>82.000000</td>\n",
       "      <td>25.400000</td>\n",
       "      <td>75.000000</td>\n",
       "      <td>78.000000</td>\n",
       "      <td>0.000000</td>\n",
       "    </tr>\n",
       "    <tr>\n",
       "      <th>75%</th>\n",
       "      <td>1.000000</td>\n",
       "      <td>56.000000</td>\n",
       "      <td>3.000000</td>\n",
       "      <td>1.000000</td>\n",
       "      <td>20.000000</td>\n",
       "      <td>0.000000</td>\n",
       "      <td>0.000000</td>\n",
       "      <td>1.000000</td>\n",
       "      <td>0.000000</td>\n",
       "      <td>263.000000</td>\n",
       "      <td>144.000000</td>\n",
       "      <td>90.000000</td>\n",
       "      <td>28.040000</td>\n",
       "      <td>83.000000</td>\n",
       "      <td>87.000000</td>\n",
       "      <td>0.000000</td>\n",
       "    </tr>\n",
       "    <tr>\n",
       "      <th>max</th>\n",
       "      <td>1.000000</td>\n",
       "      <td>70.000000</td>\n",
       "      <td>4.000000</td>\n",
       "      <td>1.000000</td>\n",
       "      <td>70.000000</td>\n",
       "      <td>1.000000</td>\n",
       "      <td>1.000000</td>\n",
       "      <td>1.000000</td>\n",
       "      <td>1.000000</td>\n",
       "      <td>696.000000</td>\n",
       "      <td>295.000000</td>\n",
       "      <td>142.500000</td>\n",
       "      <td>56.800000</td>\n",
       "      <td>143.000000</td>\n",
       "      <td>394.000000</td>\n",
       "      <td>1.000000</td>\n",
       "    </tr>\n",
       "  </tbody>\n",
       "</table>\n",
       "</div>"
      ],
      "text/plain": [
       "              male          age    education  currentSmoker   cigsPerDay  \\\n",
       "count  4240.000000  4240.000000  4135.000000    4240.000000  4211.000000   \n",
       "mean      0.429245    49.580189     1.979444       0.494104     9.005937   \n",
       "std       0.495027     8.572942     1.019791       0.500024    11.922462   \n",
       "min       0.000000    32.000000     1.000000       0.000000     0.000000   \n",
       "25%       0.000000    42.000000     1.000000       0.000000     0.000000   \n",
       "50%       0.000000    49.000000     2.000000       0.000000     0.000000   \n",
       "75%       1.000000    56.000000     3.000000       1.000000    20.000000   \n",
       "max       1.000000    70.000000     4.000000       1.000000    70.000000   \n",
       "\n",
       "            BPMeds  prevalentStroke  prevalentHyp     diabetes      totChol  \\\n",
       "count  4187.000000      4240.000000   4240.000000  4240.000000  4190.000000   \n",
       "mean      0.029615         0.005896      0.310613     0.025708   236.699523   \n",
       "std       0.169544         0.076569      0.462799     0.158280    44.591284   \n",
       "min       0.000000         0.000000      0.000000     0.000000   107.000000   \n",
       "25%       0.000000         0.000000      0.000000     0.000000   206.000000   \n",
       "50%       0.000000         0.000000      0.000000     0.000000   234.000000   \n",
       "75%       0.000000         0.000000      1.000000     0.000000   263.000000   \n",
       "max       1.000000         1.000000      1.000000     1.000000   696.000000   \n",
       "\n",
       "             sysBP        diaBP          BMI    heartRate      glucose  \\\n",
       "count  4240.000000  4240.000000  4221.000000  4239.000000  3852.000000   \n",
       "mean    132.354599    82.897759    25.800801    75.878981    81.963655   \n",
       "std      22.033300    11.910394     4.079840    12.025348    23.954335   \n",
       "min      83.500000    48.000000    15.540000    44.000000    40.000000   \n",
       "25%     117.000000    75.000000    23.070000    68.000000    71.000000   \n",
       "50%     128.000000    82.000000    25.400000    75.000000    78.000000   \n",
       "75%     144.000000    90.000000    28.040000    83.000000    87.000000   \n",
       "max     295.000000   142.500000    56.800000   143.000000   394.000000   \n",
       "\n",
       "        TenYearCHD  \n",
       "count  4240.000000  \n",
       "mean      0.151887  \n",
       "std       0.358953  \n",
       "min       0.000000  \n",
       "25%       0.000000  \n",
       "50%       0.000000  \n",
       "75%       0.000000  \n",
       "max       1.000000  "
      ]
     },
     "execution_count": 3,
     "metadata": {},
     "output_type": "execute_result"
    }
   ],
   "source": [
    "fram_df.describe()"
   ]
  },
  {
   "cell_type": "code",
   "execution_count": 4,
   "metadata": {},
   "outputs": [
    {
     "data": {
      "text/html": [
       "<div>\n",
       "<style scoped>\n",
       "    .dataframe tbody tr th:only-of-type {\n",
       "        vertical-align: middle;\n",
       "    }\n",
       "\n",
       "    .dataframe tbody tr th {\n",
       "        vertical-align: top;\n",
       "    }\n",
       "\n",
       "    .dataframe thead th {\n",
       "        text-align: right;\n",
       "    }\n",
       "</style>\n",
       "<table border=\"1\" class=\"dataframe\">\n",
       "  <thead>\n",
       "    <tr style=\"text-align: right;\">\n",
       "      <th></th>\n",
       "      <th>male</th>\n",
       "      <th>age</th>\n",
       "      <th>education</th>\n",
       "      <th>currentSmoker</th>\n",
       "      <th>cigsPerDay</th>\n",
       "      <th>BPMeds</th>\n",
       "      <th>prevalentStroke</th>\n",
       "      <th>prevalentHyp</th>\n",
       "      <th>diabetes</th>\n",
       "      <th>totChol</th>\n",
       "      <th>sysBP</th>\n",
       "      <th>diaBP</th>\n",
       "      <th>BMI</th>\n",
       "      <th>heartRate</th>\n",
       "      <th>glucose</th>\n",
       "      <th>TenYearCHD</th>\n",
       "    </tr>\n",
       "  </thead>\n",
       "  <tbody>\n",
       "    <tr>\n",
       "      <th>0</th>\n",
       "      <td>1</td>\n",
       "      <td>39</td>\n",
       "      <td>4.0</td>\n",
       "      <td>0</td>\n",
       "      <td>0.0</td>\n",
       "      <td>0.0</td>\n",
       "      <td>0</td>\n",
       "      <td>0</td>\n",
       "      <td>0</td>\n",
       "      <td>195.0</td>\n",
       "      <td>106.0</td>\n",
       "      <td>70.0</td>\n",
       "      <td>26.97</td>\n",
       "      <td>80.0</td>\n",
       "      <td>77.0</td>\n",
       "      <td>0</td>\n",
       "    </tr>\n",
       "    <tr>\n",
       "      <th>1</th>\n",
       "      <td>0</td>\n",
       "      <td>46</td>\n",
       "      <td>2.0</td>\n",
       "      <td>0</td>\n",
       "      <td>0.0</td>\n",
       "      <td>0.0</td>\n",
       "      <td>0</td>\n",
       "      <td>0</td>\n",
       "      <td>0</td>\n",
       "      <td>250.0</td>\n",
       "      <td>121.0</td>\n",
       "      <td>81.0</td>\n",
       "      <td>28.73</td>\n",
       "      <td>95.0</td>\n",
       "      <td>76.0</td>\n",
       "      <td>0</td>\n",
       "    </tr>\n",
       "    <tr>\n",
       "      <th>2</th>\n",
       "      <td>1</td>\n",
       "      <td>48</td>\n",
       "      <td>1.0</td>\n",
       "      <td>1</td>\n",
       "      <td>20.0</td>\n",
       "      <td>0.0</td>\n",
       "      <td>0</td>\n",
       "      <td>0</td>\n",
       "      <td>0</td>\n",
       "      <td>245.0</td>\n",
       "      <td>127.5</td>\n",
       "      <td>80.0</td>\n",
       "      <td>25.34</td>\n",
       "      <td>75.0</td>\n",
       "      <td>70.0</td>\n",
       "      <td>0</td>\n",
       "    </tr>\n",
       "    <tr>\n",
       "      <th>3</th>\n",
       "      <td>0</td>\n",
       "      <td>61</td>\n",
       "      <td>3.0</td>\n",
       "      <td>1</td>\n",
       "      <td>30.0</td>\n",
       "      <td>0.0</td>\n",
       "      <td>0</td>\n",
       "      <td>1</td>\n",
       "      <td>0</td>\n",
       "      <td>225.0</td>\n",
       "      <td>150.0</td>\n",
       "      <td>95.0</td>\n",
       "      <td>28.58</td>\n",
       "      <td>65.0</td>\n",
       "      <td>103.0</td>\n",
       "      <td>1</td>\n",
       "    </tr>\n",
       "    <tr>\n",
       "      <th>4</th>\n",
       "      <td>0</td>\n",
       "      <td>46</td>\n",
       "      <td>3.0</td>\n",
       "      <td>1</td>\n",
       "      <td>23.0</td>\n",
       "      <td>0.0</td>\n",
       "      <td>0</td>\n",
       "      <td>0</td>\n",
       "      <td>0</td>\n",
       "      <td>285.0</td>\n",
       "      <td>130.0</td>\n",
       "      <td>84.0</td>\n",
       "      <td>23.10</td>\n",
       "      <td>85.0</td>\n",
       "      <td>85.0</td>\n",
       "      <td>0</td>\n",
       "    </tr>\n",
       "  </tbody>\n",
       "</table>\n",
       "</div>"
      ],
      "text/plain": [
       "   male  age  education  currentSmoker  cigsPerDay  BPMeds  prevalentStroke  \\\n",
       "0     1   39        4.0              0         0.0     0.0                0   \n",
       "1     0   46        2.0              0         0.0     0.0                0   \n",
       "2     1   48        1.0              1        20.0     0.0                0   \n",
       "3     0   61        3.0              1        30.0     0.0                0   \n",
       "4     0   46        3.0              1        23.0     0.0                0   \n",
       "\n",
       "   prevalentHyp  diabetes  totChol  sysBP  diaBP    BMI  heartRate  glucose  \\\n",
       "0             0         0    195.0  106.0   70.0  26.97       80.0     77.0   \n",
       "1             0         0    250.0  121.0   81.0  28.73       95.0     76.0   \n",
       "2             0         0    245.0  127.5   80.0  25.34       75.0     70.0   \n",
       "3             1         0    225.0  150.0   95.0  28.58       65.0    103.0   \n",
       "4             0         0    285.0  130.0   84.0  23.10       85.0     85.0   \n",
       "\n",
       "   TenYearCHD  \n",
       "0           0  \n",
       "1           0  \n",
       "2           0  \n",
       "3           1  \n",
       "4           0  "
      ]
     },
     "execution_count": 4,
     "metadata": {},
     "output_type": "execute_result"
    }
   ],
   "source": [
    "fram_df.head()"
   ]
  },
  {
   "cell_type": "code",
   "execution_count": 5,
   "metadata": {},
   "outputs": [
    {
     "data": {
      "text/plain": [
       "male                 0\n",
       "age                  0\n",
       "education          105\n",
       "currentSmoker        0\n",
       "cigsPerDay          29\n",
       "BPMeds              53\n",
       "prevalentStroke      0\n",
       "prevalentHyp         0\n",
       "diabetes             0\n",
       "totChol             50\n",
       "sysBP                0\n",
       "diaBP                0\n",
       "BMI                 19\n",
       "heartRate            1\n",
       "glucose            388\n",
       "TenYearCHD           0\n",
       "dtype: int64"
      ]
     },
     "execution_count": 5,
     "metadata": {},
     "output_type": "execute_result"
    }
   ],
   "source": [
    "fram_df.isnull().sum()"
   ]
  },
  {
   "cell_type": "code",
   "execution_count": 6,
   "metadata": {},
   "outputs": [
    {
     "name": "stdout",
     "output_type": "stream",
     "text": [
      "The percentage of null values by feature is: \n",
      "0.00%\n",
      "0.00%\n",
      "2.48%\n",
      "0.00%\n",
      "0.68%\n",
      "1.25%\n",
      "0.00%\n",
      "0.00%\n",
      "0.00%\n",
      "1.18%\n",
      "0.00%\n",
      "0.00%\n",
      "0.45%\n",
      "0.02%\n",
      "9.15%\n",
      "0.00%\n"
     ]
    }
   ],
   "source": [
    "# percentage of null values in every column\n",
    "\n",
    "print('The percentage of null values by feature is: ')\n",
    "for i in list(fram_df.columns):\n",
    "#     print(fram_df[i].isnull().sum()/len(fram_df[i])*100)\n",
    "    print(\"{0:.2f}%\".format(fram_df[i].isnull().sum()/len(fram_df[i])*100))"
   ]
  },
  {
   "cell_type": "code",
   "execution_count": 7,
   "metadata": {},
   "outputs": [
    {
     "data": {
      "text/plain": [
       "['male',\n",
       " 'age',\n",
       " 'education',\n",
       " 'currentSmoker',\n",
       " 'cigsPerDay',\n",
       " 'BPMeds',\n",
       " 'prevalentStroke',\n",
       " 'prevalentHyp',\n",
       " 'diabetes',\n",
       " 'totChol',\n",
       " 'sysBP',\n",
       " 'diaBP',\n",
       " 'BMI',\n",
       " 'heartRate',\n",
       " 'glucose',\n",
       " 'TenYearCHD']"
      ]
     },
     "execution_count": 7,
     "metadata": {},
     "output_type": "execute_result"
    }
   ],
   "source": [
    "list(fram_df.columns)"
   ]
  },
  {
   "cell_type": "code",
   "execution_count": 40,
   "metadata": {},
   "outputs": [
    {
     "data": {
      "text/plain": [
       "0    0.848113\n",
       "1    0.151887\n",
       "Name: TenYearCHD, dtype: float64"
      ]
     },
     "execution_count": 40,
     "metadata": {},
     "output_type": "execute_result"
    }
   ],
   "source": [
    "fram_df['TenYearCHD'].value_counts()/len(fram_df['TenYearCHD'])"
   ]
  },
  {
   "cell_type": "code",
   "execution_count": null,
   "metadata": {},
   "outputs": [],
   "source": [
    "# strange column, dropping\n",
    "fram_df.drop('education', axis = 1, inplace = True)"
   ]
  },
  {
   "cell_type": "code",
   "execution_count": 42,
   "metadata": {},
   "outputs": [],
   "source": [
    "# filling out NaNs with mean\n",
    "fram_df.iloc[:,2:] = fram_df.iloc[:,2:].fillna(fram_df.iloc[:,2:].mean())"
   ]
  },
  {
   "cell_type": "code",
   "execution_count": 43,
   "metadata": {},
   "outputs": [],
   "source": [
    "features = fram_df.iloc[:,:-1]\n",
    "result = fram_df.iloc[:,-1]"
   ]
  },
  {
   "cell_type": "code",
   "execution_count": 44,
   "metadata": {},
   "outputs": [],
   "source": [
    "import sklearn\n",
    "from sklearn.model_selection import train_test_split"
   ]
  },
  {
   "cell_type": "code",
   "execution_count": 45,
   "metadata": {},
   "outputs": [],
   "source": [
    "X_train, X_test, y_train, y_test = train_test_split(features, result, test_size = 0.2, random_state = 14)"
   ]
  },
  {
   "cell_type": "code",
   "execution_count": 46,
   "metadata": {},
   "outputs": [],
   "source": [
    "from sklearn.linear_model import LogisticRegression"
   ]
  },
  {
   "cell_type": "code",
   "execution_count": 149,
   "metadata": {},
   "outputs": [],
   "source": [
    "logmodel1 = LogisticRegression(solver = 'liblinear')"
   ]
  },
  {
   "cell_type": "code",
   "execution_count": 150,
   "metadata": {},
   "outputs": [
    {
     "data": {
      "text/plain": [
       "LogisticRegression(C=1.0, class_weight=None, dual=False, fit_intercept=True,\n",
       "                   intercept_scaling=1, l1_ratio=None, max_iter=100,\n",
       "                   multi_class='warn', n_jobs=None, penalty='l2',\n",
       "                   random_state=None, solver='liblinear', tol=0.0001, verbose=0,\n",
       "                   warm_start=False)"
      ]
     },
     "execution_count": 150,
     "metadata": {},
     "output_type": "execute_result"
    }
   ],
   "source": [
    "logmodel1.fit(X_train, y_train)"
   ]
  },
  {
   "cell_type": "code",
   "execution_count": 151,
   "metadata": {},
   "outputs": [],
   "source": [
    "predictions = logmodel1.predict(X_test)"
   ]
  },
  {
   "cell_type": "code",
   "execution_count": 50,
   "metadata": {},
   "outputs": [],
   "source": [
    "from sklearn.metrics import classification_report"
   ]
  },
  {
   "cell_type": "code",
   "execution_count": 152,
   "metadata": {},
   "outputs": [
    {
     "name": "stdout",
     "output_type": "stream",
     "text": [
      "              precision    recall  f1-score   support\n",
      "\n",
      "           0       0.86      1.00      0.92       724\n",
      "           1       0.57      0.03      0.06       124\n",
      "\n",
      "    accuracy                           0.85       848\n",
      "   macro avg       0.71      0.51      0.49       848\n",
      "weighted avg       0.82      0.85      0.80       848\n",
      "\n"
     ]
    }
   ],
   "source": [
    "print(classification_report(y_test, predictions))"
   ]
  },
  {
   "cell_type": "code",
   "execution_count": 52,
   "metadata": {},
   "outputs": [],
   "source": [
    "from sklearn.metrics import confusion_matrix"
   ]
  },
  {
   "cell_type": "code",
   "execution_count": 153,
   "metadata": {},
   "outputs": [
    {
     "name": "stdout",
     "output_type": "stream",
     "text": [
      "[[721   3]\n",
      " [120   4]]\n"
     ]
    }
   ],
   "source": [
    "print(confusion_matrix(y_test, predictions))"
   ]
  },
  {
   "cell_type": "markdown",
   "metadata": {},
   "source": [
    "#### Dropping bad features"
   ]
  },
  {
   "cell_type": "code",
   "execution_count": 54,
   "metadata": {},
   "outputs": [],
   "source": [
    "# Log regression in sklearn cannot return p values of features, so we need to rerun log regression differently\n",
    "import statsmodels.api as sm"
   ]
  },
  {
   "cell_type": "code",
   "execution_count": 55,
   "metadata": {},
   "outputs": [],
   "source": [
    "import scipy.stats as st"
   ]
  },
  {
   "cell_type": "code",
   "execution_count": 56,
   "metadata": {},
   "outputs": [
    {
     "name": "stderr",
     "output_type": "stream",
     "text": [
      "C:\\Users\\us61565\\AppData\\Local\\Continuum\\anaconda3\\lib\\site-packages\\numpy\\core\\fromnumeric.py:2389: FutureWarning: Method .ptp is deprecated and will be removed in a future version. Use numpy.ptp instead.\n",
      "  return ptp(axis=axis, out=out, **kwargs)\n"
     ]
    },
    {
     "data": {
      "text/html": [
       "<div>\n",
       "<style scoped>\n",
       "    .dataframe tbody tr th:only-of-type {\n",
       "        vertical-align: middle;\n",
       "    }\n",
       "\n",
       "    .dataframe tbody tr th {\n",
       "        vertical-align: top;\n",
       "    }\n",
       "\n",
       "    .dataframe thead th {\n",
       "        text-align: right;\n",
       "    }\n",
       "</style>\n",
       "<table border=\"1\" class=\"dataframe\">\n",
       "  <thead>\n",
       "    <tr style=\"text-align: right;\">\n",
       "      <th></th>\n",
       "      <th>const</th>\n",
       "      <th>male</th>\n",
       "      <th>age</th>\n",
       "      <th>currentSmoker</th>\n",
       "      <th>cigsPerDay</th>\n",
       "      <th>BPMeds</th>\n",
       "      <th>prevalentStroke</th>\n",
       "      <th>prevalentHyp</th>\n",
       "      <th>diabetes</th>\n",
       "      <th>totChol</th>\n",
       "      <th>sysBP</th>\n",
       "      <th>diaBP</th>\n",
       "      <th>BMI</th>\n",
       "      <th>heartRate</th>\n",
       "      <th>glucose</th>\n",
       "      <th>TenYearCHD</th>\n",
       "    </tr>\n",
       "  </thead>\n",
       "  <tbody>\n",
       "    <tr>\n",
       "      <th>0</th>\n",
       "      <td>1.0</td>\n",
       "      <td>1</td>\n",
       "      <td>39</td>\n",
       "      <td>0</td>\n",
       "      <td>0.0</td>\n",
       "      <td>0.0</td>\n",
       "      <td>0</td>\n",
       "      <td>0</td>\n",
       "      <td>0</td>\n",
       "      <td>195.0</td>\n",
       "      <td>106.0</td>\n",
       "      <td>70.0</td>\n",
       "      <td>26.97</td>\n",
       "      <td>80.0</td>\n",
       "      <td>77.0</td>\n",
       "      <td>0</td>\n",
       "    </tr>\n",
       "    <tr>\n",
       "      <th>1</th>\n",
       "      <td>1.0</td>\n",
       "      <td>0</td>\n",
       "      <td>46</td>\n",
       "      <td>0</td>\n",
       "      <td>0.0</td>\n",
       "      <td>0.0</td>\n",
       "      <td>0</td>\n",
       "      <td>0</td>\n",
       "      <td>0</td>\n",
       "      <td>250.0</td>\n",
       "      <td>121.0</td>\n",
       "      <td>81.0</td>\n",
       "      <td>28.73</td>\n",
       "      <td>95.0</td>\n",
       "      <td>76.0</td>\n",
       "      <td>0</td>\n",
       "    </tr>\n",
       "    <tr>\n",
       "      <th>2</th>\n",
       "      <td>1.0</td>\n",
       "      <td>1</td>\n",
       "      <td>48</td>\n",
       "      <td>1</td>\n",
       "      <td>20.0</td>\n",
       "      <td>0.0</td>\n",
       "      <td>0</td>\n",
       "      <td>0</td>\n",
       "      <td>0</td>\n",
       "      <td>245.0</td>\n",
       "      <td>127.5</td>\n",
       "      <td>80.0</td>\n",
       "      <td>25.34</td>\n",
       "      <td>75.0</td>\n",
       "      <td>70.0</td>\n",
       "      <td>0</td>\n",
       "    </tr>\n",
       "    <tr>\n",
       "      <th>3</th>\n",
       "      <td>1.0</td>\n",
       "      <td>0</td>\n",
       "      <td>61</td>\n",
       "      <td>1</td>\n",
       "      <td>30.0</td>\n",
       "      <td>0.0</td>\n",
       "      <td>0</td>\n",
       "      <td>1</td>\n",
       "      <td>0</td>\n",
       "      <td>225.0</td>\n",
       "      <td>150.0</td>\n",
       "      <td>95.0</td>\n",
       "      <td>28.58</td>\n",
       "      <td>65.0</td>\n",
       "      <td>103.0</td>\n",
       "      <td>1</td>\n",
       "    </tr>\n",
       "    <tr>\n",
       "      <th>4</th>\n",
       "      <td>1.0</td>\n",
       "      <td>0</td>\n",
       "      <td>46</td>\n",
       "      <td>1</td>\n",
       "      <td>23.0</td>\n",
       "      <td>0.0</td>\n",
       "      <td>0</td>\n",
       "      <td>0</td>\n",
       "      <td>0</td>\n",
       "      <td>285.0</td>\n",
       "      <td>130.0</td>\n",
       "      <td>84.0</td>\n",
       "      <td>23.10</td>\n",
       "      <td>85.0</td>\n",
       "      <td>85.0</td>\n",
       "      <td>0</td>\n",
       "    </tr>\n",
       "  </tbody>\n",
       "</table>\n",
       "</div>"
      ],
      "text/plain": [
       "   const  male  age  currentSmoker  cigsPerDay  BPMeds  prevalentStroke  \\\n",
       "0    1.0     1   39              0         0.0     0.0                0   \n",
       "1    1.0     0   46              0         0.0     0.0                0   \n",
       "2    1.0     1   48              1        20.0     0.0                0   \n",
       "3    1.0     0   61              1        30.0     0.0                0   \n",
       "4    1.0     0   46              1        23.0     0.0                0   \n",
       "\n",
       "   prevalentHyp  diabetes  totChol  sysBP  diaBP    BMI  heartRate  glucose  \\\n",
       "0             0         0    195.0  106.0   70.0  26.97       80.0     77.0   \n",
       "1             0         0    250.0  121.0   81.0  28.73       95.0     76.0   \n",
       "2             0         0    245.0  127.5   80.0  25.34       75.0     70.0   \n",
       "3             1         0    225.0  150.0   95.0  28.58       65.0    103.0   \n",
       "4             0         0    285.0  130.0   84.0  23.10       85.0     85.0   \n",
       "\n",
       "   TenYearCHD  \n",
       "0           0  \n",
       "1           0  \n",
       "2           0  \n",
       "3           1  \n",
       "4           0  "
      ]
     },
     "execution_count": 56,
     "metadata": {},
     "output_type": "execute_result"
    }
   ],
   "source": [
    "from statsmodels.tools import add_constant as add_constant\n",
    "fram_df_constant = add_constant(fram_df)\n",
    "fram_df_constant.head()"
   ]
  },
  {
   "cell_type": "code",
   "execution_count": 165,
   "metadata": {},
   "outputs": [
    {
     "name": "stdout",
     "output_type": "stream",
     "text": [
      "Optimization terminated successfully.\n",
      "         Current function value: 0.378523\n",
      "         Iterations 7\n"
     ]
    },
    {
     "data": {
      "text/html": [
       "<table class=\"simpletable\">\n",
       "<caption>Logit Regression Results</caption>\n",
       "<tr>\n",
       "  <th>Dep. Variable:</th>    <td>TenYearCHD</td>    <th>  No. Observations:  </th>  <td>  4240</td>  \n",
       "</tr>\n",
       "<tr>\n",
       "  <th>Model:</th>               <td>Logit</td>      <th>  Df Residuals:      </th>  <td>  4225</td>  \n",
       "</tr>\n",
       "<tr>\n",
       "  <th>Method:</th>               <td>MLE</td>       <th>  Df Model:          </th>  <td>    14</td>  \n",
       "</tr>\n",
       "<tr>\n",
       "  <th>Date:</th>          <td>Wed, 12 Jun 2019</td> <th>  Pseudo R-squ.:     </th>  <td>0.1114</td>  \n",
       "</tr>\n",
       "<tr>\n",
       "  <th>Time:</th>              <td>11:15:14</td>     <th>  Log-Likelihood:    </th> <td> -1604.9</td> \n",
       "</tr>\n",
       "<tr>\n",
       "  <th>converged:</th>           <td>True</td>       <th>  LL-Null:           </th> <td> -1806.1</td> \n",
       "</tr>\n",
       "<tr>\n",
       "  <th> </th>                      <td> </td>        <th>  LLR p-value:       </th> <td>4.087e-77</td>\n",
       "</tr>\n",
       "</table>\n",
       "<table class=\"simpletable\">\n",
       "<tr>\n",
       "         <td></td>            <th>coef</th>     <th>std err</th>      <th>z</th>      <th>P>|z|</th>  <th>[0.025</th>    <th>0.975]</th>  \n",
       "</tr>\n",
       "<tr>\n",
       "  <th>const</th>           <td>   -8.1712</td> <td>    0.644</td> <td>  -12.688</td> <td> 0.000</td> <td>   -9.433</td> <td>   -6.909</td>\n",
       "</tr>\n",
       "<tr>\n",
       "  <th>male</th>            <td>    0.5065</td> <td>    0.100</td> <td>    5.047</td> <td> 0.000</td> <td>    0.310</td> <td>    0.703</td>\n",
       "</tr>\n",
       "<tr>\n",
       "  <th>age</th>             <td>    0.0624</td> <td>    0.006</td> <td>   10.105</td> <td> 0.000</td> <td>    0.050</td> <td>    0.074</td>\n",
       "</tr>\n",
       "<tr>\n",
       "  <th>currentSmoker</th>   <td>    0.0159</td> <td>    0.144</td> <td>    0.110</td> <td> 0.912</td> <td>   -0.267</td> <td>    0.298</td>\n",
       "</tr>\n",
       "<tr>\n",
       "  <th>cigsPerDay</th>      <td>    0.0212</td> <td>    0.006</td> <td>    3.706</td> <td> 0.000</td> <td>    0.010</td> <td>    0.032</td>\n",
       "</tr>\n",
       "<tr>\n",
       "  <th>BPMeds</th>          <td>    0.2456</td> <td>    0.220</td> <td>    1.115</td> <td> 0.265</td> <td>   -0.186</td> <td>    0.677</td>\n",
       "</tr>\n",
       "<tr>\n",
       "  <th>prevalentStroke</th> <td>    0.9667</td> <td>    0.441</td> <td>    2.191</td> <td> 0.028</td> <td>    0.102</td> <td>    1.832</td>\n",
       "</tr>\n",
       "<tr>\n",
       "  <th>prevalentHyp</th>    <td>    0.2304</td> <td>    0.128</td> <td>    1.793</td> <td> 0.073</td> <td>   -0.021</td> <td>    0.482</td>\n",
       "</tr>\n",
       "<tr>\n",
       "  <th>diabetes</th>        <td>    0.1932</td> <td>    0.294</td> <td>    0.657</td> <td> 0.511</td> <td>   -0.383</td> <td>    0.769</td>\n",
       "</tr>\n",
       "<tr>\n",
       "  <th>totChol</th>         <td>    0.0018</td> <td>    0.001</td> <td>    1.782</td> <td> 0.075</td> <td>   -0.000</td> <td>    0.004</td>\n",
       "</tr>\n",
       "<tr>\n",
       "  <th>sysBP</th>           <td>    0.0142</td> <td>    0.004</td> <td>    4.025</td> <td> 0.000</td> <td>    0.007</td> <td>    0.021</td>\n",
       "</tr>\n",
       "<tr>\n",
       "  <th>diaBP</th>           <td>   -0.0031</td> <td>    0.006</td> <td>   -0.514</td> <td> 0.607</td> <td>   -0.015</td> <td>    0.009</td>\n",
       "</tr>\n",
       "<tr>\n",
       "  <th>BMI</th>             <td>    0.0039</td> <td>    0.012</td> <td>    0.329</td> <td> 0.742</td> <td>   -0.019</td> <td>    0.027</td>\n",
       "</tr>\n",
       "<tr>\n",
       "  <th>heartRate</th>       <td>   -0.0015</td> <td>    0.004</td> <td>   -0.374</td> <td> 0.708</td> <td>   -0.009</td> <td>    0.006</td>\n",
       "</tr>\n",
       "<tr>\n",
       "  <th>glucose</th>         <td>    0.0067</td> <td>    0.002</td> <td>    3.115</td> <td> 0.002</td> <td>    0.002</td> <td>    0.011</td>\n",
       "</tr>\n",
       "</table>"
      ],
      "text/plain": [
       "<class 'statsmodels.iolib.summary.Summary'>\n",
       "\"\"\"\n",
       "                           Logit Regression Results                           \n",
       "==============================================================================\n",
       "Dep. Variable:             TenYearCHD   No. Observations:                 4240\n",
       "Model:                          Logit   Df Residuals:                     4225\n",
       "Method:                           MLE   Df Model:                           14\n",
       "Date:                Wed, 12 Jun 2019   Pseudo R-squ.:                  0.1114\n",
       "Time:                        11:15:14   Log-Likelihood:                -1604.9\n",
       "converged:                       True   LL-Null:                       -1806.1\n",
       "                                        LLR p-value:                 4.087e-77\n",
       "===================================================================================\n",
       "                      coef    std err          z      P>|z|      [0.025      0.975]\n",
       "-----------------------------------------------------------------------------------\n",
       "const              -8.1712      0.644    -12.688      0.000      -9.433      -6.909\n",
       "male                0.5065      0.100      5.047      0.000       0.310       0.703\n",
       "age                 0.0624      0.006     10.105      0.000       0.050       0.074\n",
       "currentSmoker       0.0159      0.144      0.110      0.912      -0.267       0.298\n",
       "cigsPerDay          0.0212      0.006      3.706      0.000       0.010       0.032\n",
       "BPMeds              0.2456      0.220      1.115      0.265      -0.186       0.677\n",
       "prevalentStroke     0.9667      0.441      2.191      0.028       0.102       1.832\n",
       "prevalentHyp        0.2304      0.128      1.793      0.073      -0.021       0.482\n",
       "diabetes            0.1932      0.294      0.657      0.511      -0.383       0.769\n",
       "totChol             0.0018      0.001      1.782      0.075      -0.000       0.004\n",
       "sysBP               0.0142      0.004      4.025      0.000       0.007       0.021\n",
       "diaBP              -0.0031      0.006     -0.514      0.607      -0.015       0.009\n",
       "BMI                 0.0039      0.012      0.329      0.742      -0.019       0.027\n",
       "heartRate          -0.0015      0.004     -0.374      0.708      -0.009       0.006\n",
       "glucose             0.0067      0.002      3.115      0.002       0.002       0.011\n",
       "===================================================================================\n",
       "\"\"\""
      ]
     },
     "execution_count": 165,
     "metadata": {},
     "output_type": "execute_result"
    }
   ],
   "source": [
    "# with all features\n",
    "st.chisqprob = lambda chisq, df: st.chi2.sf(chisq, df)\n",
    "cols=fram_df_constant.columns[:-1]\n",
    "model1=sm.Logit(fram_df.TenYearCHD, fram_df_constant[cols])\n",
    "result1=model1.fit()\n",
    "result1.summary()"
   ]
  },
  {
   "cell_type": "code",
   "execution_count": 162,
   "metadata": {},
   "outputs": [
    {
     "data": {
      "text/plain": [
       "const              0.000211\n",
       "male               1.626283\n",
       "age                1.066915\n",
       "cigsPerDay         1.021660\n",
       "prevalentStroke    2.849160\n",
       "sysBP              1.017210\n",
       "glucose            1.007606\n",
       "dtype: float64"
      ]
     },
     "execution_count": 162,
     "metadata": {},
     "output_type": "execute_result"
    }
   ],
   "source": [
    "np.exp(result.params)"
   ]
  },
  {
   "cell_type": "code",
   "execution_count": 163,
   "metadata": {},
   "outputs": [
    {
     "name": "stderr",
     "output_type": "stream",
     "text": [
      "C:\\Users\\us61565\\AppData\\Local\\Continuum\\anaconda3\\lib\\site-packages\\numpy\\core\\fromnumeric.py:2389: FutureWarning: Method .ptp is deprecated and will be removed in a future version. Use numpy.ptp instead.\n",
      "  return ptp(axis=axis, out=out, **kwargs)\n"
     ]
    },
    {
     "data": {
      "text/html": [
       "<div>\n",
       "<style scoped>\n",
       "    .dataframe tbody tr th:only-of-type {\n",
       "        vertical-align: middle;\n",
       "    }\n",
       "\n",
       "    .dataframe tbody tr th {\n",
       "        vertical-align: top;\n",
       "    }\n",
       "\n",
       "    .dataframe thead th {\n",
       "        text-align: right;\n",
       "    }\n",
       "</style>\n",
       "<table border=\"1\" class=\"dataframe\">\n",
       "  <thead>\n",
       "    <tr style=\"text-align: right;\">\n",
       "      <th></th>\n",
       "      <th>const</th>\n",
       "      <th>male</th>\n",
       "      <th>age</th>\n",
       "      <th>cigsPerDay</th>\n",
       "      <th>prevalentStroke</th>\n",
       "      <th>sysBP</th>\n",
       "      <th>glucose</th>\n",
       "      <th>TenYearCHD</th>\n",
       "    </tr>\n",
       "  </thead>\n",
       "  <tbody>\n",
       "    <tr>\n",
       "      <th>0</th>\n",
       "      <td>1.0</td>\n",
       "      <td>1</td>\n",
       "      <td>39</td>\n",
       "      <td>0.0</td>\n",
       "      <td>0</td>\n",
       "      <td>106.0</td>\n",
       "      <td>77.0</td>\n",
       "      <td>0</td>\n",
       "    </tr>\n",
       "    <tr>\n",
       "      <th>1</th>\n",
       "      <td>1.0</td>\n",
       "      <td>0</td>\n",
       "      <td>46</td>\n",
       "      <td>0.0</td>\n",
       "      <td>0</td>\n",
       "      <td>121.0</td>\n",
       "      <td>76.0</td>\n",
       "      <td>0</td>\n",
       "    </tr>\n",
       "    <tr>\n",
       "      <th>2</th>\n",
       "      <td>1.0</td>\n",
       "      <td>1</td>\n",
       "      <td>48</td>\n",
       "      <td>20.0</td>\n",
       "      <td>0</td>\n",
       "      <td>127.5</td>\n",
       "      <td>70.0</td>\n",
       "      <td>0</td>\n",
       "    </tr>\n",
       "    <tr>\n",
       "      <th>3</th>\n",
       "      <td>1.0</td>\n",
       "      <td>0</td>\n",
       "      <td>61</td>\n",
       "      <td>30.0</td>\n",
       "      <td>0</td>\n",
       "      <td>150.0</td>\n",
       "      <td>103.0</td>\n",
       "      <td>1</td>\n",
       "    </tr>\n",
       "    <tr>\n",
       "      <th>4</th>\n",
       "      <td>1.0</td>\n",
       "      <td>0</td>\n",
       "      <td>46</td>\n",
       "      <td>23.0</td>\n",
       "      <td>0</td>\n",
       "      <td>130.0</td>\n",
       "      <td>85.0</td>\n",
       "      <td>0</td>\n",
       "    </tr>\n",
       "  </tbody>\n",
       "</table>\n",
       "</div>"
      ],
      "text/plain": [
       "   const  male  age  cigsPerDay  prevalentStroke  sysBP  glucose  TenYearCHD\n",
       "0    1.0     1   39         0.0                0  106.0     77.0           0\n",
       "1    1.0     0   46         0.0                0  121.0     76.0           0\n",
       "2    1.0     1   48        20.0                0  127.5     70.0           0\n",
       "3    1.0     0   61        30.0                0  150.0    103.0           1\n",
       "4    1.0     0   46        23.0                0  130.0     85.0           0"
      ]
     },
     "execution_count": 163,
     "metadata": {},
     "output_type": "execute_result"
    }
   ],
   "source": [
    "# with fewer features\n",
    "fram_df_constant_short = add_constant(fram_short)\n",
    "fram_df_constant_short.head()"
   ]
  },
  {
   "cell_type": "code",
   "execution_count": 166,
   "metadata": {},
   "outputs": [
    {
     "name": "stdout",
     "output_type": "stream",
     "text": [
      "Optimization terminated successfully.\n",
      "         Current function value: 0.379593\n",
      "         Iterations 7\n"
     ]
    },
    {
     "data": {
      "text/html": [
       "<table class=\"simpletable\">\n",
       "<caption>Logit Regression Results</caption>\n",
       "<tr>\n",
       "  <th>Dep. Variable:</th>    <td>TenYearCHD</td>    <th>  No. Observations:  </th>  <td>  4240</td>  \n",
       "</tr>\n",
       "<tr>\n",
       "  <th>Model:</th>               <td>Logit</td>      <th>  Df Residuals:      </th>  <td>  4233</td>  \n",
       "</tr>\n",
       "<tr>\n",
       "  <th>Method:</th>               <td>MLE</td>       <th>  Df Model:          </th>  <td>     6</td>  \n",
       "</tr>\n",
       "<tr>\n",
       "  <th>Date:</th>          <td>Wed, 12 Jun 2019</td> <th>  Pseudo R-squ.:     </th>  <td>0.1089</td>  \n",
       "</tr>\n",
       "<tr>\n",
       "  <th>Time:</th>              <td>11:15:32</td>     <th>  Log-Likelihood:    </th> <td> -1609.5</td> \n",
       "</tr>\n",
       "<tr>\n",
       "  <th>converged:</th>           <td>True</td>       <th>  LL-Null:           </th> <td> -1806.1</td> \n",
       "</tr>\n",
       "<tr>\n",
       "  <th> </th>                      <td> </td>        <th>  LLR p-value:       </th> <td>7.859e-82</td>\n",
       "</tr>\n",
       "</table>\n",
       "<table class=\"simpletable\">\n",
       "<tr>\n",
       "         <td></td>            <th>coef</th>     <th>std err</th>      <th>z</th>      <th>P>|z|</th>  <th>[0.025</th>    <th>0.975]</th>  \n",
       "</tr>\n",
       "<tr>\n",
       "  <th>const</th>           <td>   -8.4658</td> <td>    0.390</td> <td>  -21.727</td> <td> 0.000</td> <td>   -9.230</td> <td>   -7.702</td>\n",
       "</tr>\n",
       "<tr>\n",
       "  <th>male</th>            <td>    0.4863</td> <td>    0.097</td> <td>    5.004</td> <td> 0.000</td> <td>    0.296</td> <td>    0.677</td>\n",
       "</tr>\n",
       "<tr>\n",
       "  <th>age</th>             <td>    0.0648</td> <td>    0.006</td> <td>   10.932</td> <td> 0.000</td> <td>    0.053</td> <td>    0.076</td>\n",
       "</tr>\n",
       "<tr>\n",
       "  <th>cigsPerDay</th>      <td>    0.0214</td> <td>    0.004</td> <td>    5.560</td> <td> 0.000</td> <td>    0.014</td> <td>    0.029</td>\n",
       "</tr>\n",
       "<tr>\n",
       "  <th>prevalentStroke</th> <td>    1.0470</td> <td>    0.436</td> <td>    2.401</td> <td> 0.016</td> <td>    0.192</td> <td>    1.902</td>\n",
       "</tr>\n",
       "<tr>\n",
       "  <th>sysBP</th>           <td>    0.0171</td> <td>    0.002</td> <td>    8.528</td> <td> 0.000</td> <td>    0.013</td> <td>    0.021</td>\n",
       "</tr>\n",
       "<tr>\n",
       "  <th>glucose</th>         <td>    0.0076</td> <td>    0.002</td> <td>    4.644</td> <td> 0.000</td> <td>    0.004</td> <td>    0.011</td>\n",
       "</tr>\n",
       "</table>"
      ],
      "text/plain": [
       "<class 'statsmodels.iolib.summary.Summary'>\n",
       "\"\"\"\n",
       "                           Logit Regression Results                           \n",
       "==============================================================================\n",
       "Dep. Variable:             TenYearCHD   No. Observations:                 4240\n",
       "Model:                          Logit   Df Residuals:                     4233\n",
       "Method:                           MLE   Df Model:                            6\n",
       "Date:                Wed, 12 Jun 2019   Pseudo R-squ.:                  0.1089\n",
       "Time:                        11:15:32   Log-Likelihood:                -1609.5\n",
       "converged:                       True   LL-Null:                       -1806.1\n",
       "                                        LLR p-value:                 7.859e-82\n",
       "===================================================================================\n",
       "                      coef    std err          z      P>|z|      [0.025      0.975]\n",
       "-----------------------------------------------------------------------------------\n",
       "const              -8.4658      0.390    -21.727      0.000      -9.230      -7.702\n",
       "male                0.4863      0.097      5.004      0.000       0.296       0.677\n",
       "age                 0.0648      0.006     10.932      0.000       0.053       0.076\n",
       "cigsPerDay          0.0214      0.004      5.560      0.000       0.014       0.029\n",
       "prevalentStroke     1.0470      0.436      2.401      0.016       0.192       1.902\n",
       "sysBP               0.0171      0.002      8.528      0.000       0.013       0.021\n",
       "glucose             0.0076      0.002      4.644      0.000       0.004       0.011\n",
       "===================================================================================\n",
       "\"\"\""
      ]
     },
     "execution_count": 166,
     "metadata": {},
     "output_type": "execute_result"
    }
   ],
   "source": [
    "# with fewer features\n",
    "st.chisqprob = lambda chisq, df: st.chi2.sf(chisq, df)\n",
    "cols=fram_df_constant_short.columns[:-1]\n",
    "model2=sm.Logit(fram_short.TenYearCHD, fram_df_constant_short[cols])\n",
    "result2=model2.fit()\n",
    "result2.summary()"
   ]
  },
  {
   "cell_type": "code",
   "execution_count": 168,
   "metadata": {},
   "outputs": [
    {
     "data": {
      "text/plain": [
       "const              0.000211\n",
       "male               1.626283\n",
       "age                1.066915\n",
       "cigsPerDay         1.021660\n",
       "prevalentStroke    2.849160\n",
       "sysBP              1.017210\n",
       "glucose            1.007606\n",
       "dtype: float64"
      ]
     },
     "execution_count": 168,
     "metadata": {},
     "output_type": "execute_result"
    }
   ],
   "source": [
    "np.exp(result2.params)"
   ]
  },
  {
   "cell_type": "code",
   "execution_count": 116,
   "metadata": {},
   "outputs": [],
   "source": [
    "# Backward elimination: removing features with highest p values iteratively\n",
    "\n",
    "def back_feature_elem (data_frame, dep_var, col_list):\n",
    "    \"\"\" Takes in the dataframe, the dependent variable and a list of column names, runs the regression repeatedly eleminating feature with the highest\n",
    "    P-value above alpha one at a time and returns the regression summary with all p-values below alpha\"\"\"\n",
    "\n",
    "    while len(col_list)>0 :\n",
    "        model=sm.Logit(dep_var,data_frame[col_list])\n",
    "        result=model.fit(disp=0)\n",
    "        largest_pvalue=round(result.pvalues,3).nlargest(1)\n",
    "        if largest_pvalue[0]<(0.05):\n",
    "            return result\n",
    "            break\n",
    "        else:\n",
    "            col_list=col_list.drop(largest_pvalue.index)\n",
    "\n",
    "result= back_feature_elem(fram_df_constant, fram_df.TenYearCHD, cols)"
   ]
  },
  {
   "cell_type": "raw",
   "metadata": {},
   "source": [
    "result.summary()"
   ]
  },
  {
   "cell_type": "code",
   "execution_count": 130,
   "metadata": {},
   "outputs": [
    {
     "name": "stdout",
     "output_type": "stream",
     "text": [
      "                 CI 95%(2.5%)  CI 95%(97.5%)  Odds Ratio  pvalue\n",
      "const                0.000098       0.000452    0.000211   0.000\n",
      "male                 1.344229       1.967520    1.626283   0.000\n",
      "age                  1.054597       1.079377    1.066915   0.000\n",
      "cigsPerDay           1.013972       1.029406    1.021660   0.000\n",
      "prevalentStroke      1.211914       6.698256    2.849160   0.016\n",
      "sysBP                1.013229       1.021208    1.017210   0.000\n",
      "glucose              1.004389       1.010833    1.007606   0.000\n"
     ]
    }
   ],
   "source": [
    "params = np.exp(result.params)\n",
    "conf = np.exp(result.conf_int())\n",
    "conf['OR'] = params\n",
    "pvalue=round(result.pvalues,3)\n",
    "conf['pvalue']=pvalue\n",
    "conf.columns = ['CI 95%(2.5%)', 'CI 95%(97.5%)', 'Odds Ratio','pvalue']\n",
    "print ((conf))\n"
   ]
  },
  {
   "cell_type": "markdown",
   "metadata": {},
   "source": [
    "#### Rebuild the model in sklearn using only these columns"
   ]
  },
  {
   "cell_type": "code",
   "execution_count": 131,
   "metadata": {},
   "outputs": [],
   "source": [
    "fram_short = fram_df[['male', 'age','cigsPerDay','prevalentStroke','sysBP','glucose','TenYearCHD']]"
   ]
  },
  {
   "cell_type": "code",
   "execution_count": 132,
   "metadata": {},
   "outputs": [],
   "source": [
    "new_features = fram_short.iloc[:,:-1]\n",
    "new_result = fram_short.iloc[:,-1]"
   ]
  },
  {
   "cell_type": "code",
   "execution_count": 133,
   "metadata": {},
   "outputs": [],
   "source": [
    "X_train1, X_test1, y_train1, y_test1 = train_test_split(new_features, new_result, test_size = 0.2, random_state = 15)"
   ]
  },
  {
   "cell_type": "code",
   "execution_count": 154,
   "metadata": {},
   "outputs": [],
   "source": [
    "logmodel2 = LogisticRegression(solver = 'liblinear')"
   ]
  },
  {
   "cell_type": "code",
   "execution_count": 155,
   "metadata": {},
   "outputs": [
    {
     "data": {
      "text/plain": [
       "LogisticRegression(C=1.0, class_weight=None, dual=False, fit_intercept=True,\n",
       "                   intercept_scaling=1, l1_ratio=None, max_iter=100,\n",
       "                   multi_class='warn', n_jobs=None, penalty='l2',\n",
       "                   random_state=None, solver='liblinear', tol=0.0001, verbose=0,\n",
       "                   warm_start=False)"
      ]
     },
     "execution_count": 155,
     "metadata": {},
     "output_type": "execute_result"
    }
   ],
   "source": [
    "logmodel2.fit(X_train1, y_train1)"
   ]
  },
  {
   "cell_type": "code",
   "execution_count": 156,
   "metadata": {},
   "outputs": [],
   "source": [
    "predictions1 = logmodel2.predict(X_test1)"
   ]
  },
  {
   "cell_type": "code",
   "execution_count": 157,
   "metadata": {},
   "outputs": [
    {
     "name": "stdout",
     "output_type": "stream",
     "text": [
      "              precision    recall  f1-score   support\n",
      "\n",
      "           0       0.87      1.00      0.93       729\n",
      "           1       0.75      0.08      0.14       119\n",
      "\n",
      "    accuracy                           0.87       848\n",
      "   macro avg       0.81      0.54      0.53       848\n",
      "weighted avg       0.85      0.87      0.82       848\n",
      "\n"
     ]
    }
   ],
   "source": [
    "print(classification_report(y_test1, predictions1))"
   ]
  },
  {
   "cell_type": "code",
   "execution_count": 158,
   "metadata": {},
   "outputs": [
    {
     "name": "stdout",
     "output_type": "stream",
     "text": [
      "[[726   3]\n",
      " [110   9]]\n"
     ]
    }
   ],
   "source": [
    "print(confusion_matrix(y_test1, predictions1))\n",
    "# Looks a bit better; false negatives went up meaning that there are more cases where it was incorrectly predicted that the decease doesn't exist\n"
   ]
  },
  {
   "cell_type": "code",
   "execution_count": 138,
   "metadata": {},
   "outputs": [
    {
     "data": {
      "text/html": [
       "<style  type=\"text/css\" >\n",
       "    #T_5578315e_8d14_11e9_a694_181dea8671carow0_col0 {\n",
       "            background-color:  #ffff66;\n",
       "            color:  #000000;\n",
       "        }    #T_5578315e_8d14_11e9_a694_181dea8671carow0_col1 {\n",
       "            background-color:  #008066;\n",
       "            color:  #f1f1f1;\n",
       "        }    #T_5578315e_8d14_11e9_a694_181dea8671carow1_col0 {\n",
       "            background-color:  #008066;\n",
       "            color:  #f1f1f1;\n",
       "        }    #T_5578315e_8d14_11e9_a694_181dea8671carow1_col1 {\n",
       "            background-color:  #ffff66;\n",
       "            color:  #000000;\n",
       "        }</style><table id=\"T_5578315e_8d14_11e9_a694_181dea8671ca\" ><thead>    <tr>        <th class=\"blank level0\" ></th>        <th class=\"col_heading level0 col0\" >Predicted:0</th>        <th class=\"col_heading level0 col1\" >Predicted:1</th>    </tr></thead><tbody>\n",
       "                <tr>\n",
       "                        <th id=\"T_5578315e_8d14_11e9_a694_181dea8671calevel0_row0\" class=\"row_heading level0 row0\" >Actual:0</th>\n",
       "                        <td id=\"T_5578315e_8d14_11e9_a694_181dea8671carow0_col0\" class=\"data row0 col0\" >721</td>\n",
       "                        <td id=\"T_5578315e_8d14_11e9_a694_181dea8671carow0_col1\" class=\"data row0 col1\" >3</td>\n",
       "            </tr>\n",
       "            <tr>\n",
       "                        <th id=\"T_5578315e_8d14_11e9_a694_181dea8671calevel0_row1\" class=\"row_heading level0 row1\" >Actual:1</th>\n",
       "                        <td id=\"T_5578315e_8d14_11e9_a694_181dea8671carow1_col0\" class=\"data row1 col0\" >120</td>\n",
       "                        <td id=\"T_5578315e_8d14_11e9_a694_181dea8671carow1_col1\" class=\"data row1 col1\" >4</td>\n",
       "            </tr>\n",
       "    </tbody></table>"
      ],
      "text/plain": [
       "<pandas.io.formats.style.Styler at 0x1f4e7ac8>"
      ]
     },
     "execution_count": 138,
     "metadata": {},
     "output_type": "execute_result"
    },
    {
     "data": {
      "text/plain": [
       "<Figure size 576x360 with 0 Axes>"
      ]
     },
     "metadata": {},
     "output_type": "display_data"
    }
   ],
   "source": [
    "# Original one:\n",
    "from sklearn.metrics import confusion_matrix\n",
    "cm=confusion_matrix(y_test,predictions)\n",
    "conf_matrix=pd.DataFrame(data=cm,columns=['Predicted:0','Predicted:1'],index=['Actual:0','Actual:1'])\n",
    "plt.figure(figsize = (8,5))\n",
    "\n",
    "conf_matrix.style.background_gradient(cmap='summer')"
   ]
  },
  {
   "cell_type": "code",
   "execution_count": 139,
   "metadata": {},
   "outputs": [
    {
     "data": {
      "text/html": [
       "<style  type=\"text/css\" >\n",
       "    #T_557f3176_8d14_11e9_93e9_181dea8671carow0_col0 {\n",
       "            background-color:  #ffff66;\n",
       "            color:  #000000;\n",
       "        }    #T_557f3176_8d14_11e9_93e9_181dea8671carow0_col1 {\n",
       "            background-color:  #008066;\n",
       "            color:  #f1f1f1;\n",
       "        }    #T_557f3176_8d14_11e9_93e9_181dea8671carow1_col0 {\n",
       "            background-color:  #008066;\n",
       "            color:  #f1f1f1;\n",
       "        }    #T_557f3176_8d14_11e9_93e9_181dea8671carow1_col1 {\n",
       "            background-color:  #ffff66;\n",
       "            color:  #000000;\n",
       "        }</style><table id=\"T_557f3176_8d14_11e9_93e9_181dea8671ca\" ><thead>    <tr>        <th class=\"blank level0\" ></th>        <th class=\"col_heading level0 col0\" >Predicted:0</th>        <th class=\"col_heading level0 col1\" >Predicted:1</th>    </tr></thead><tbody>\n",
       "                <tr>\n",
       "                        <th id=\"T_557f3176_8d14_11e9_93e9_181dea8671calevel0_row0\" class=\"row_heading level0 row0\" >Actual:0</th>\n",
       "                        <td id=\"T_557f3176_8d14_11e9_93e9_181dea8671carow0_col0\" class=\"data row0 col0\" >726</td>\n",
       "                        <td id=\"T_557f3176_8d14_11e9_93e9_181dea8671carow0_col1\" class=\"data row0 col1\" >3</td>\n",
       "            </tr>\n",
       "            <tr>\n",
       "                        <th id=\"T_557f3176_8d14_11e9_93e9_181dea8671calevel0_row1\" class=\"row_heading level0 row1\" >Actual:1</th>\n",
       "                        <td id=\"T_557f3176_8d14_11e9_93e9_181dea8671carow1_col0\" class=\"data row1 col0\" >110</td>\n",
       "                        <td id=\"T_557f3176_8d14_11e9_93e9_181dea8671carow1_col1\" class=\"data row1 col1\" >9</td>\n",
       "            </tr>\n",
       "    </tbody></table>"
      ],
      "text/plain": [
       "<pandas.io.formats.style.Styler at 0x1f46e8d0>"
      ]
     },
     "execution_count": 139,
     "metadata": {},
     "output_type": "execute_result"
    },
    {
     "data": {
      "text/plain": [
       "<Figure size 576x360 with 0 Axes>"
      ]
     },
     "metadata": {},
     "output_type": "display_data"
    }
   ],
   "source": [
    "# Updated one:\n",
    "cm1=confusion_matrix(y_test1,predictions1)\n",
    "conf_matrix1=pd.DataFrame(data=cm1,columns=['Predicted:0','Predicted:1'],index=['Actual:0','Actual:1'])\n",
    "plt.figure(figsize = (8,5))\n",
    "\n",
    "conf_matrix1.style.background_gradient(cmap='summer')"
   ]
  },
  {
   "cell_type": "markdown",
   "metadata": {},
   "source": [
    "#### Lowering the threshold"
   ]
  },
  {
   "cell_type": "code",
   "execution_count": 159,
   "metadata": {},
   "outputs": [
    {
     "name": "stdout",
     "output_type": "stream",
     "text": [
      "With 0.1 threshold the Confusion Matrix is  \n",
      " [[269 460]\n",
      " [ 18 101]] \n",
      " with 370 correct predictions and 18 Type II errors( False Negatives) \n",
      "\n",
      " Sensitivity:  0.8487394957983193 Specificity:  0.36899862825788754 \n",
      "\n",
      "\n",
      "\n",
      "With 0.2 threshold the Confusion Matrix is  \n",
      " [[561 168]\n",
      " [ 63  56]] \n",
      " with 617 correct predictions and 63 Type II errors( False Negatives) \n",
      "\n",
      " Sensitivity:  0.47058823529411764 Specificity:  0.7695473251028807 \n",
      "\n",
      "\n",
      "\n",
      "With 0.3 threshold the Confusion Matrix is  \n",
      " [[670  59]\n",
      " [ 91  28]] \n",
      " with 698 correct predictions and 91 Type II errors( False Negatives) \n",
      "\n",
      " Sensitivity:  0.23529411764705882 Specificity:  0.9190672153635117 \n",
      "\n",
      "\n",
      "\n",
      "With 0.4 threshold the Confusion Matrix is  \n",
      " [[719  10]\n",
      " [103  16]] \n",
      " with 735 correct predictions and 103 Type II errors( False Negatives) \n",
      "\n",
      " Sensitivity:  0.13445378151260504 Specificity:  0.9862825788751715 \n",
      "\n",
      "\n",
      "\n",
      "With 0.5 threshold the Confusion Matrix is  \n",
      " [[726   3]\n",
      " [110   9]] \n",
      " with 735 correct predictions and 110 Type II errors( False Negatives) \n",
      "\n",
      " Sensitivity:  0.07563025210084033 Specificity:  0.9958847736625515 \n",
      "\n",
      "\n",
      "\n",
      "With 0.6 threshold the Confusion Matrix is  \n",
      " [[729   0]\n",
      " [117   2]] \n",
      " with 731 correct predictions and 117 Type II errors( False Negatives) \n",
      "\n",
      " Sensitivity:  0.01680672268907563 Specificity:  1.0 \n",
      "\n",
      "\n",
      "\n"
     ]
    }
   ],
   "source": [
    "# With fewer features:\n",
    "from sklearn.preprocessing import binarize\n",
    "for i in range(1,7):\n",
    "    cm2=0\n",
    "    y_pred_prob_yes1=logmodel2.predict_proba(X_test1)\n",
    "    y_pred2=binarize(y_pred_prob_yes1,i/10)[:,1]\n",
    "    cm2=confusion_matrix(y_test1,y_pred2)\n",
    "    print ('With',i/10,'threshold the Confusion Matrix is ','\\n',cm2,'\\n',\n",
    "            'with',cm2[0,0]+cm2[1,1],'correct predictions and',cm2[1,0],'Type II errors( False Negatives)','\\n\\n',\n",
    "          'Sensitivity: ',cm2[1,1]/(float(cm2[1,1]+cm2[1,0])),'Specificity: ',cm2[0,0]/(float(cm2[0,0]+cm2[0,1])),'\\n\\n\\n')"
   ]
  },
  {
   "cell_type": "code",
   "execution_count": 160,
   "metadata": {},
   "outputs": [
    {
     "name": "stdout",
     "output_type": "stream",
     "text": [
      "With 0.2 threshold the Confusion Matrix is  \n",
      " [[594 130]\n",
      " [ 61  63]] \n",
      " with 657 correct predictions and 61 Type II errors( False Negatives) \n",
      "\n",
      " Sensitivity:  0.5080645161290323 Specificity:  0.8204419889502762 \n",
      "\n",
      "\n",
      "\n",
      "With 0.3 threshold the Confusion Matrix is  \n",
      " [[681  43]\n",
      " [100  24]] \n",
      " with 705 correct predictions and 100 Type II errors( False Negatives) \n",
      "\n",
      " Sensitivity:  0.1935483870967742 Specificity:  0.9406077348066298 \n",
      "\n",
      "\n",
      "\n",
      "With 0.4 threshold the Confusion Matrix is  \n",
      " [[709  15]\n",
      " [114  10]] \n",
      " with 719 correct predictions and 114 Type II errors( False Negatives) \n",
      "\n",
      " Sensitivity:  0.08064516129032258 Specificity:  0.9792817679558011 \n",
      "\n",
      "\n",
      "\n",
      "With 0.5 threshold the Confusion Matrix is  \n",
      " [[721   3]\n",
      " [120   4]] \n",
      " with 725 correct predictions and 120 Type II errors( False Negatives) \n",
      "\n",
      " Sensitivity:  0.03225806451612903 Specificity:  0.9958563535911602 \n",
      "\n",
      "\n",
      "\n",
      "With 0.6 threshold the Confusion Matrix is  \n",
      " [[724   0]\n",
      " [122   2]] \n",
      " with 726 correct predictions and 122 Type II errors( False Negatives) \n",
      "\n",
      " Sensitivity:  0.016129032258064516 Specificity:  1.0 \n",
      "\n",
      "\n",
      "\n"
     ]
    }
   ],
   "source": [
    "# With all features\n",
    "from sklearn.preprocessing import binarize\n",
    "for i in range(2,7):\n",
    "    cm2=0\n",
    "    y_pred_prob_yes=logmodel1.predict_proba(X_test)\n",
    "    y_pred1=binarize(y_pred_prob_yes,i/10)[:,1]\n",
    "    cm2=confusion_matrix(y_test,y_pred1)\n",
    "    print ('With',i/10,'threshold the Confusion Matrix is ','\\n',cm2,'\\n',\n",
    "            'with',cm2[0,0]+cm2[1,1],'correct predictions and',cm2[1,0],'Type II errors( False Negatives)','\\n\\n',\n",
    "          'Sensitivity: ',cm2[1,1]/(float(cm2[1,1]+cm2[1,0])),'Specificity: ',cm2[0,0]/(float(cm2[0,0]+cm2[0,1])),'\\n\\n\\n')"
   ]
  },
  {
   "cell_type": "code",
   "execution_count": 141,
   "metadata": {},
   "outputs": [
    {
     "data": {
      "image/png": "[encoded data removed]",
      "text/plain": [
       "<Figure size 432x288 with 1 Axes>"
      ]
     },
     "metadata": {
      "needs_background": "light"
     },
     "output_type": "display_data"
    }
   ],
   "source": [
    "from sklearn.metrics import roc_curve\n",
    "fpr, tpr, thresholds = roc_curve(y_test1, y_pred_prob_yes[:,1])\n",
    "plt.plot(fpr,tpr)\n",
    "plt.xlim([0.0, 1.0])\n",
    "plt.ylim([0.0, 1.0])\n",
    "plt.title('ROC curve for Heart disease classifier')\n",
    "plt.xlabel('False positive rate (1-Specificity)')\n",
    "plt.ylabel('True positive rate (Sensitivity)')\n",
    "plt.grid(True)"
   ]
  },
  {
   "cell_type": "code",
   "execution_count": 142,
   "metadata": {},
   "outputs": [
    {
     "data": {
      "text/plain": [
       "0.5286379433256103"
      ]
     },
     "execution_count": 142,
     "metadata": {},
     "output_type": "execute_result"
    }
   ],
   "source": [
    "sklearn.metrics.roc_auc_score(y_test,y_pred_prob_yes[:,1])"
   ]
  }
 ],
 "metadata": {
  "kernelspec": {
   "display_name": "Python 3",
   "language": "python",
   "name": "python3"
  },
  "language_info": {
   "codemirror_mode": {
    "name": "ipython",
    "version": 3
   },
   "file_extension": ".py",
   "mimetype": "text/x-python",
   "name": "python",
   "nbconvert_exporter": "python",
   "pygments_lexer": "ipython3",
   "version": "3.7.1"
  }
 },
 "nbformat": 4,
 "nbformat_minor": 2
}
